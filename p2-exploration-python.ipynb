{
 "cells": [
  {
   "cell_type": "markdown",
   "metadata": {},
   "source": [
    "# P2. Exploration Python"
   ]
  },
  {
   "cell_type": "markdown",
   "metadata": {},
   "source": [
    "Le répertoire `/data` contient les résultats brutes des épreuves des jeux d'été et d'hiver pour une période donnée.\n",
    "\n",
    "On s'intéresse dans le cadre de cette partie P2 à l'exploration des résultats des JO d'été (fichier : `summer-olympics.csv`) en s'appuyant sur le langage Python (standard library seulement).\n"
   ]
  },
  {
   "cell_type": "markdown",
   "metadata": {},
   "source": [
    "---"
   ]
  },
  {
   "cell_type": "markdown",
   "metadata": {},
   "source": [
    "## Préliminaire: Chargement des données\n",
    "Le code fourni ci-dessous permet de charger en mémoire le fichier de données `summer-olympics.csv` dans la variable `data`"
   ]
  },
  {
   "cell_type": "code",
   "execution_count": null,
   "metadata": {},
   "outputs": [],
   "source": [
    "import csv\n",
    "import time\n",
    "\n",
    "filename = 'data/summer-olympics.csv'\n",
    "\n",
    "ts = time.time()\n",
    "\n",
    "data = []\n",
    "with open(filename, newline='', encoding='utf-8') as csvfile:\n",
    "    reader = csv.DictReader(csvfile, delimiter=',')\n",
    "    for row in reader:\n",
    "        data.append(row)\n",
    "n_items = len(data)\n",
    "\n",
    "te = time.time()\n",
    "        \n",
    "print(f\"{filename} loaded into data ({n_items} items)\")\n",
    "print(f\"done in {te - ts:.2f} s.\")\n"
   ]
  },
  {
   "cell_type": "markdown",
   "metadata": {},
   "source": [
    "### Question 0: Où trouver la documentation du module `csv` ? de la fonction `csv.DictReader` ? "
   ]
  },
  {
   "cell_type": "markdown",
   "metadata": {},
   "source": [
    "python.org"
   ]
  },
  {
   "cell_type": "code",
   "execution_count": null,
   "metadata": {},
   "outputs": [],
   "source": [
    "help(csv)"
   ]
  },
  {
   "cell_type": "markdown",
   "metadata": {},
   "source": [
    "---\n",
    "### Question 1: Quel est le type de la variable `data`? "
   ]
  },
  {
   "cell_type": "code",
   "execution_count": null,
   "metadata": {},
   "outputs": [],
   "source": [
    "type(data)"
   ]
  },
  {
   "cell_type": "markdown",
   "metadata": {},
   "source": [
    "### Question 2: Combien d'éléments contient la variable `data` ? "
   ]
  },
  {
   "cell_type": "code",
   "execution_count": null,
   "metadata": {},
   "outputs": [],
   "source": [
    "len(data)"
   ]
  },
  {
   "cell_type": "markdown",
   "metadata": {},
   "source": [
    "### Question 2: Quel est le premier élément de `data` ? "
   ]
  },
  {
   "cell_type": "code",
   "execution_count": null,
   "metadata": {},
   "outputs": [],
   "source": [
    "data[0]"
   ]
  },
  {
   "cell_type": "markdown",
   "metadata": {},
   "source": [
    "### Question 3: Quel est le dernier élément de data ? "
   ]
  },
  {
   "cell_type": "code",
   "execution_count": null,
   "metadata": {},
   "outputs": [],
   "source": [
    "data[31164]"
   ]
  },
  {
   "cell_type": "code",
   "execution_count": null,
   "metadata": {},
   "outputs": [],
   "source": [
    "data[-1]"
   ]
  },
  {
   "cell_type": "markdown",
   "metadata": {},
   "source": [
    " "
   ]
  },
  {
   "cell_type": "markdown",
   "metadata": {},
   "source": [
    "---\n",
    "#### On définit la variable sample de la façon suivante :"
   ]
  },
  {
   "cell_type": "code",
   "execution_count": null,
   "metadata": {},
   "outputs": [],
   "source": [
    "sample = data[25215]"
   ]
  },
  {
   "cell_type": "markdown",
   "metadata": {},
   "source": [
    "### Question 4: Que représente la variable `sample` ? "
   ]
  },
  {
   "cell_type": "code",
   "execution_count": null,
   "metadata": {},
   "outputs": [],
   "source": [
    "sample"
   ]
  },
  {
   "cell_type": "markdown",
   "metadata": {},
   "source": [
    "### Question 5: Quel est le type de la variable `sample` ? "
   ]
  },
  {
   "cell_type": "code",
   "execution_count": null,
   "metadata": {},
   "outputs": [],
   "source": [
    "type(sample)"
   ]
  },
  {
   "cell_type": "markdown",
   "metadata": {},
   "source": [
    "### Question 6: De quel sport / discipline / compétition (Event) est-il question  ? "
   ]
  },
  {
   "cell_type": "code",
   "execution_count": null,
   "metadata": {},
   "outputs": [],
   "source": [
    "sample[\"Sport\"]"
   ]
  },
  {
   "cell_type": "code",
   "execution_count": null,
   "metadata": {},
   "outputs": [],
   "source": [
    "sample[\"Discipline\"]"
   ]
  },
  {
   "cell_type": "code",
   "execution_count": null,
   "metadata": {},
   "outputs": [],
   "source": [
    "sample[\"Event\"]"
   ]
  },
  {
   "cell_type": "markdown",
   "metadata": {},
   "source": [
    "### Question 5: Quel est le type de la variable `sample` ? "
   ]
  },
  {
   "cell_type": "code",
   "execution_count": null,
   "metadata": {},
   "outputs": [],
   "source": [
    "type(sample)"
   ]
  },
  {
   "cell_type": "code",
   "execution_count": null,
   "metadata": {},
   "outputs": [],
   "source": [
    "selection = []\n",
    "for e in data:\n",
    "    if e['Year'] == '1984' and e['Country'] == 'FRA' and e['Medal'] == 'Gold':\n",
    "        selection.append(e)\n",
    "len(selection)"
   ]
  },
  {
   "cell_type": "code",
   "execution_count": null,
   "metadata": {},
   "outputs": [],
   "source": [
    "listjapan2012 = []\n",
    "for e in data:\n",
    "    if e['Year'] == '2012' and e['Country'] == 'JPN':\n",
    "        listjapan2012.append(e)\n",
    "print(len(listjapan2012))"
   ]
  },
  {
   "cell_type": "code",
   "execution_count": null,
   "metadata": {},
   "outputs": [],
   "source": [
    "listfrenchwomen = []\n",
    "for e in data:\n",
    "    if e['Country'] == 'FRA' and e['Year'] == '2012'and e['Gender'] == 'Women':\n",
    "        listfrenchwomen.append(e)\n",
    "print(len(listfrenchwomen))      "
   ]
  },
  {
   "cell_type": "code",
   "execution_count": null,
   "metadata": {},
   "outputs": [],
   "source": [
    "selection2012 = []\n",
    "for e in data:\n",
    "    if e['Year'] == '2012' and e['Medal'] == 'Gold':\n",
    "        selection2012.append(e)\n",
    "len(selection2012)"
   ]
  },
  {
   "cell_type": "markdown",
   "metadata": {},
   "source": [
    "#q15 le nombre de médailles d'or par pays en 2012"
   ]
  },
  {
   "cell_type": "code",
   "execution_count": null,
   "metadata": {},
   "outputs": [],
   "source": [
    "selection = []\n",
    "for e in data:\n",
    "    if e['Year'] == '1984' and e['Country'] == 'FRA' and e['Medal'] == 'Gold':\n",
    "        selection.append(e)\n",
    "len(selection)"
   ]
  },
  {
   "cell_type": "code",
   "execution_count": null,
   "metadata": {},
   "outputs": [],
   "source": [
    "# calculer le nb de médailles d'or gagné par un pays donné 'country' lors d'une olympiade donnée 'year'\n",
    "def calcul_nb_medailles(country, year):\n",
    "    selection = []\n",
    "    for e in data:\n",
    "        if e['Year'] == year and e['Country'] == country and e['Medal'] == 'Gold':\n",
    "            selection.append(e)\n",
    "    reponse = len(selection)\n",
    "    print(country, year, reponse)\n",
    "    \n",
    "    return reponse"
   ]
  },
  {
   "cell_type": "code",
   "execution_count": null,
   "metadata": {},
   "outputs": [],
   "source": [
    "listelondon = []\n",
    "for e in data:\n",
    "    if e['City'] == 'London':\n",
    "        listelondon.append(e)\n",
    "print(len(listelondon))"
   ]
  },
  {
   "cell_type": "code",
   "execution_count": null,
   "metadata": {},
   "outputs": [],
   "source": [
    "selectionbresil = []\n",
    "for e in data:\n",
    "    if e['Country'] == 'BRA' and e['Medal'] == 'Gold' and e['Gender'] == 'Women'and e['Year'] == 2012:\n",
    "        selectionbresil.append(e)\n",
    "print(len(selectionbresil))"
   ]
  },
  {
   "cell_type": "code",
   "execution_count": null,
   "metadata": {},
   "outputs": [],
   "source": []
  },
  {
   "cell_type": "code",
   "execution_count": null,
   "metadata": {},
   "outputs": [],
   "source": []
  },
  {
   "cell_type": "code",
   "execution_count": null,
   "metadata": {},
   "outputs": [],
   "source": [
    "yearlondon = []\n",
    "for e in listelondon:\n",
    "    if e['Year'] not in yearlondon:\n",
    "        yearlondon.append(e['Year'])\n",
    "print(len(yearlondon))"
   ]
  },
  {
   "cell_type": "code",
   "execution_count": null,
   "metadata": {},
   "outputs": [],
   "source": [
    "calcul_nb_medailles('FRA', '1984')"
   ]
  },
  {
   "cell_type": "code",
   "execution_count": null,
   "metadata": {},
   "outputs": [],
   "source": [
    "for e in selection:\n",
    "    print(e[\"Athlete\"], e[\"Country\"])\n",
    "    \n"
   ]
  },
  {
   "cell_type": "markdown",
   "metadata": {},
   "source": [
    "Fin"
   ]
  }
 ],
 "metadata": {
  "kernelspec": {
   "display_name": "Python 3",
   "language": "python",
   "name": "python3"
  },
  "language_info": {
   "codemirror_mode": {
    "name": "ipython",
    "version": 3
   },
   "file_extension": ".py",
   "mimetype": "text/x-python",
   "name": "python",
   "nbconvert_exporter": "python",
   "pygments_lexer": "ipython3",
   "version": "3.8.6"
  }
 },
 "nbformat": 4,
 "nbformat_minor": 4
}
