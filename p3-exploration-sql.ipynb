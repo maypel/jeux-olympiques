{
 "cells": [
  {
   "cell_type": "markdown",
   "metadata": {},
   "source": [
    "# P3. Exploration SQL"
   ]
  },
  {
   "cell_type": "markdown",
   "metadata": {},
   "source": [
    "Le répertoire `/db` contient une base de données SQLite3 `olympics.sqbpro` reprenant les résultats des épreuves des jeux d'été pour une période donnée (cf P1 & P2).\n",
    "\n",
    "On s'intéresse dans le cadre de cette partie P3 à l'exploration via SQL des résultats des JO d'été (table : `summer`)."
   ]
  },
  {
   "cell_type": "markdown",
   "metadata": {},
   "source": [
    "---"
   ]
  },
  {
   "cell_type": "markdown",
   "metadata": {},
   "source": [
    "### Question 1: Qu'est ce que SQL ?"
   ]
  },
  {
   "cell_type": "markdown",
   "metadata": {},
   "source": [
    "SQL signifie Structured Query Language, c'est un langage qui permet de communiquer avec une base de données relationnelles.\n",
    "\n",
    "\"SQL est un langage informatique normalisé servant à exploiter des bases de données relationnelles. La partie langage de manipulation des données de SQL permet de rechercher, d'ajouter, de modifier ou de supprimer des données dans les bases de données relationnelles.\" (Wikipédia)"
   ]
  },
  {
   "cell_type": "markdown",
   "metadata": {},
   "source": [
    "### Question 2: Qu'est ce que SQLite 3 ? Avantages et/ou Inconvénients ?"
   ]
  },
  {
   "cell_type": "markdown",
   "metadata": {},
   "source": [
    "Sqlite est un SGBD simplifié, petit et rapide. Il présente de nombreux avantages:\n",
    "- iL est serverless, c'est à dire qui ne fonctionne pas sous le schéma classique de \"client-serveur\", il n'a donc pas besoin d'un serveur dédié pour fonctionner et peut être directement intégré dans une application.\n",
    "- facile d'utilisation, car ne nécessite pas d'installation/configuration particulière et peu d'administration.\n",
    "- projet opensource\n",
    "- utilise peu de ressource.\n",
    "- \"toute la base est stockée dans un fichier unique qu'il est facile d'échanger en FTP\" (Finalclap)\n",
    "\n",
    "Ce software n'est pas exempts d'inconvénients:\n",
    "- écritures ATOMIC (avec SQLite, un seul processus peut écrire dans la base)\n",
    "- n'est pas adpaté pour les sites importants (par ex. pas de réplication possible)\n",
    "- la taille de la base de donnée peut être restreinte\n",
    "\n",
    "-\n",
    "La version 3 apporte des améliorations par rapport à la version 2 :\"\n",
    "- Auto increment (très utile pour les clé primaires à base d'entiers générés automatiquement)\n",
    "- Stockage plus efficace (SQLite2 stocke tous les types sous forme de chaine de caractère : entiers, chaines, BLOB... ce qui occupe de      l'espace disque inutilement)\n",
    "- Support des clés étrangères\" (Finalclap)\n",
    "\n",
    "\n",
    "http://www.journaldunet.com/developpeur/tutoriel/sql/050127-sqlite-limites.shtml"
   ]
  },
  {
   "cell_type": "markdown",
   "metadata": {},
   "source": [
    "### Question 3: Donner des exemples d'autres formats de fichier pouvant être utilisé pour fournir des données similaires "
   ]
  },
  {
   "cell_type": "code",
   "execution_count": null,
   "metadata": {},
   "outputs": [],
   "source": [
    "xls, json, "
   ]
  },
  {
   "cell_type": "markdown",
   "metadata": {},
   "source": [
    "### Question 4: Quel est le type (texte ou binaire) du fichier base de données SQLite3?"
   ]
  },
  {
   "cell_type": "markdown",
   "metadata": {},
   "source": [
    "Le fichier `olympics.sqbpro` est un fichier binaire (car encoder et il faut un logiciel particulier pour le lire)"
   ]
  },
  {
   "cell_type": "markdown",
   "metadata": {},
   "source": [
    "### Question 5: Donner les caractéristiques de la table `summer` ? "
   ]
  },
  {
   "cell_type": "markdown",
   "metadata": {},
   "source": [
    "tableau contenant: year, city, sport, discipline, athlete, counntry, gender, event, medal"
   ]
  },
  {
   "cell_type": "markdown",
   "metadata": {},
   "source": [
    "---\n",
    "### Question 6: Combien d'enregistrements possède la table `summer` ?"
   ]
  },
  {
   "attachments": {
    "253173a0-22c0-4c1a-8a18-a8ba61f9a590.png": {
     "image/png": "[encoded data removed]"
    }
   },
   "cell_type": "markdown",
   "metadata": {},
   "source": [
    "\"requete sql\"\n",
    "SELECT count FROM summer\n",
    "\n",
    "\"reponse\"\n",
    "31165!\n",
    "[QScreenshot_1.png](attachment:253173a0-22c0-4c1a-8a18-a8ba61f9a590.png)"
   ]
  },
  {
   "cell_type": "markdown",
   "metadata": {},
   "source": [
    "### Question 7: Quelle période des JO couvre ce fichier de résultats ?"
   ]
  },
  {
   "cell_type": "code",
   "execution_count": null,
   "metadata": {},
   "outputs": [],
   "source": [
    "SELECT min(Year), max(Year)\n",
    "FROM summer"
   ]
  },
  {
   "cell_type": "markdown",
   "metadata": {},
   "source": [
    "### Question 8: Indiquer les années et villes des olympiades ? "
   ]
  },
  {
   "cell_type": "code",
   "execution_count": null,
   "metadata": {},
   "outputs": [],
   "source": [
    "SELECT DISTINCT Year, City \n",
    "FROM summer"
   ]
  },
  {
   "cell_type": "markdown",
   "metadata": {},
   "source": [
    "### Q3. En 2012 combien de médailles le Japon a t-il gagné ? (Théo)"
   ]
  },
  {
   "cell_type": "markdown",
   "metadata": {},
   "source": [
    "SELECT *\n",
    "FROM summer\n",
    "WHERE \"Year\" = \"2012\" AND \"Country\" = \"JPN\" "
   ]
  },
  {
   "cell_type": "markdown",
   "metadata": {},
   "source": [
    "## Q17. Entre 1984 et 2012 combien de médailles a gagné la France ? (Abire)"
   ]
  },
  {
   "cell_type": "markdown",
   "metadata": {},
   "source": [
    "SELECT *\n",
    "FROM summer\n",
    "WHERE Year >= \"1984\" and Year <= \"2012\" AND \"Country\" = \"FRA\" "
   ]
  },
  {
   "cell_type": "markdown",
   "metadata": {},
   "source": [
    "### Q10. Combien de joueuses comptait la sélection brésilienne de volley-ball médaillée d’or aux J.O de 2012 ? (Corentin P)"
   ]
  },
  {
   "cell_type": "code",
   "execution_count": null,
   "metadata": {},
   "outputs": [],
   "source": [
    "SELECT *\n",
    "FROM summer\n",
    "WHERE Year = \"2012\" AND Country = \"BRA\" AND Discipline = \"Volleyball\" AND \"Gender\" = \"Women\"\n",
    "\n"
   ]
  },
  {
   "cell_type": "markdown",
   "metadata": {},
   "source": [
    "### Q13. Est-ce que la France à déjà gagné une médaille d’or au cricket ? (jordan)"
   ]
  },
  {
   "cell_type": "code",
   "execution_count": null,
   "metadata": {},
   "outputs": [],
   "source": [
    "SELECT count(*)\n",
    "FROM summer\n",
    "WHERE Country = \"FRA\" AND Discipline = \"Cricket\" AND \"Medal\" = \"Gold\""
   ]
  },
  {
   "cell_type": "markdown",
   "metadata": {},
   "source": [
    "### Q12. Quel est l’athlète qui a remporté le plus de médailles d’or ? (mayel)"
   ]
  },
  {
   "cell_type": "code",
   "execution_count": null,
   "metadata": {},
   "outputs": [],
   "source": [
    "SELECT Athlete, count(*)\n",
    "FROM summer\n",
    "WHERE Medal = \"Gold\"\n",
    "GROUP BY Athlete\n",
    "ORDER BY count(*) DESC\n",
    "LIMIT 1"
   ]
  },
  {
   "cell_type": "markdown",
   "metadata": {},
   "source": [
    "### Q1. Combien la France a remporté de médailles d’or aux JO de 1984 ? (Christophe)"
   ]
  },
  {
   "cell_type": "code",
   "execution_count": null,
   "metadata": {},
   "outputs": [],
   "source": [
    "SELECT count(Country) as France, Medal\n",
    "FROM summer\n",
    "WHERE Year = 1984 AND Country = \"FRA\" AND Medal = \"Gold\""
   ]
  },
  {
   "cell_type": "markdown",
   "metadata": {},
   "source": [
    "### Q15. Le nombre de médailles d’or par pays en 2012 (Maëlle)\n"
   ]
  },
  {
   "cell_type": "code",
   "execution_count": null,
   "metadata": {},
   "outputs": [],
   "source": [
    "# pour la question Q15 et Q5 même si les fonctions semblent juste, elles sont différentes de la réalité (quand on compare ces résultats aux données wikipédia par exemple).\n",
    "\n",
    "SELECT Country, count(DISTINCT Event)\n",
    "FROM summer \n",
    "WHERE Year = \"2012\" and Medal = \"Gold\"\n",
    "GROUP BY Country\n",
    "ORDER BY count(DISTINCT Event) DESC"
   ]
  },
  {
   "cell_type": "markdown",
   "metadata": {},
   "source": [
    "### Q5. Quel pays a remporté le plus de médailles d’or ? (Philippe)\n"
   ]
  },
  {
   "cell_type": "markdown",
   "metadata": {},
   "source": [
    "SELECT Country, count(*)\n",
    "FROM summer \n",
    "WHERE Medal = \"Gold\"\n",
    "GROUP BY Country\n",
    "ORDER BY count(*) DESC\n",
    "LIMIT 1"
   ]
  },
  {
   "cell_type": "markdown",
   "metadata": {},
   "source": [
    "### Q7. Combien de femmes ont obtenu  une médaille d’or ? (Lamia)"
   ]
  },
  {
   "cell_type": "code",
   "execution_count": null,
   "metadata": {},
   "outputs": [],
   "source": [
    "SELECT Athlete, count(*)\n",
    "FROM summer \n",
    "WHERE Medal = \"Gold\" and Gender = \"Women\"\n",
    "GROUP BY Athlete\n",
    "ORDER BY count(*)"
   ]
  },
  {
   "cell_type": "markdown",
   "metadata": {},
   "source": [
    "### Q16. Combien de femmes ont remportées des médailles ?"
   ]
  },
  {
   "cell_type": "code",
   "execution_count": null,
   "metadata": {},
   "outputs": [],
   "source": [
    "SELECT count(DISTINCT Athlete)\n",
    "FROM summer \n",
    "WHERE Gender = \"Women\""
   ]
  },
  {
   "cell_type": "markdown",
   "metadata": {},
   "source": [
    "### Q11. Combien de femmes françaises ont gagnées en 2012 , quel sont leurs médailles ? (izak)\n"
   ]
  },
  {
   "cell_type": "code",
   "execution_count": null,
   "metadata": {},
   "outputs": [],
   "source": [
    "#SELECT Athlete, count(*), Medal\n",
    "#FROM summer\n",
    "#WHERE Country = \"FRA\" AND Gender = \"Women\"\n",
    "#GROUP BY Athlete\n",
    "#ORDER BY count(*) DESC\n",
    "\n",
    "# pour obtenir le nombre de femme française qui ont gagné une médaile\n",
    "SELECT Count(DISTINCT Athlete)\n",
    "FROM summer\n",
    "WHERE Country = \"FRA\" AND Gender = \"Women\" and Year = \"2012\""
   ]
  },
  {
   "cell_type": "code",
   "execution_count": null,
   "metadata": {},
   "outputs": [],
   "source": [
    "# liste des médailles françaises féminine\n",
    "SELECT Athlete, Medal\n",
    "FROM summer\n",
    "WHERE Country = \"FRA\" AND Gender = \"Women\" and Year = \"2012\""
   ]
  },
  {
   "cell_type": "markdown",
   "metadata": {},
   "source": [
    "#### Q9. Combien de fois Londres a accueilli les J.O ? (Marvin)"
   ]
  },
  {
   "cell_type": "code",
   "execution_count": null,
   "metadata": {},
   "outputs": [],
   "source": [
    "# pour avoir la réponse numérique directe\n",
    "SELECT count(DISTINCT Year)\n",
    "FROM summer\n",
    "WHERE City = \"London\"\n",
    "\n",
    "# réponse plus visuelle (tableau)\n",
    "SELECT DISTINCT year, City\n",
    "FROM summer\n",
    "WHERE City = \"London\"\n"
   ]
  },
  {
   "cell_type": "markdown",
   "metadata": {},
   "source": [
    "### Q6. Combien de villes différentes ont accueilli les JO d’été entre 1896 et 2012 ? (Yoann)"
   ]
  },
  {
   "cell_type": "code",
   "execution_count": null,
   "metadata": {},
   "outputs": [],
   "source": [
    "SELECT Count(DISTINCT City)\n",
    "FROM summer\t\n",
    "WHERE Year BETWEEN \"1896\" and \"2012\"\n"
   ]
  },
  {
   "cell_type": "markdown",
   "metadata": {},
   "source": [
    "### Q2. Quel pays a le plus d’athlètes ? (Matthias)"
   ]
  },
  {
   "cell_type": "code",
   "execution_count": null,
   "metadata": {},
   "outputs": [],
   "source": [
    "SELECT Country, count(DISTINCT Athlete)\n",
    "FROM summer\n",
    "GROUP BY Country\n",
    "ORDER BY count(DISTINCT Athlete) DESC\n",
    "LIMIT 1"
   ]
  },
  {
   "cell_type": "markdown",
   "metadata": {},
   "source": [
    "### Q8. Combien de sports différents sont représentés par année ? (joris)"
   ]
  },
  {
   "cell_type": "code",
   "execution_count": null,
   "metadata": {},
   "outputs": [],
   "source": [
    "SELECT Year, count(distinct Sport)\n",
    "FROM summer \n",
    "GROUP BY Year "
   ]
  },
  {
   "cell_type": "markdown",
   "metadata": {},
   "source": [
    "### Q4. Dans quels différents sports les Grecs ont-ils gagné des médailles ? (Corentin L)"
   ]
  },
  {
   "cell_type": "code",
   "execution_count": null,
   "metadata": {},
   "outputs": [],
   "source": [
    "SELECT Sport, count(Medal)\n",
    "FROM summer \n",
    "WHERE Country = \"GRE\"\n",
    "GROUP by Sport%"
   ]
  },
  {
   "cell_type": "code",
   "execution_count": null,
   "metadata": {},
   "outputs": [],
   "source": []
  },
  {
   "cell_type": "markdown",
   "metadata": {},
   "source": [
    "### Q14. Combien de médaillés ont un nom de famille de plus de 6 lettres en excluant les années paires ? (jonathan)\n"
   ]
  },
  {
   "cell_type": "code",
   "execution_count": null,
   "metadata": {},
   "outputs": [],
   "source": [
    "# il n'y pas de JO d'été les années impaires, la réponse sera 0\n",
    "SELECT Athlete\n",
    "FROM summer\n",
    "WHERE ([Year]% 2) != 0"
   ]
  },
  {
   "cell_type": "code",
   "execution_count": null,
   "metadata": {},
   "outputs": [],
   "source": [
    "SELECT Athlete\n",
    "FROM summer\n",
    "WHERE Year = Year%2"
   ]
  },
  {
   "cell_type": "markdown",
   "metadata": {},
   "source": [
    "### Question i: "
   ]
  },
  {
   "cell_type": "code",
   "execution_count": null,
   "metadata": {},
   "outputs": [],
   "source": []
  },
  {
   "cell_type": "markdown",
   "metadata": {},
   "source": [
    "--- "
   ]
  },
  {
   "cell_type": "markdown",
   "metadata": {},
   "source": [
    "Fin"
   ]
  }
 ],
 "metadata": {
  "kernelspec": {
   "display_name": "Python 3",
   "language": "python",
   "name": "python3"
  },
  "language_info": {
   "codemirror_mode": {
    "name": "ipython",
    "version": 3
   },
   "file_extension": ".py",
   "mimetype": "text/x-python",
   "name": "python",
   "nbconvert_exporter": "python",
   "pygments_lexer": "ipython3",
   "version": "3.8.6"
  }
 },
 "nbformat": 4,
 "nbformat_minor": 4
}
