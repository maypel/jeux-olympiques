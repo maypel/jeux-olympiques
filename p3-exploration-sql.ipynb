{
 "cells": [
  {
   "cell_type": "markdown",
   "metadata": {},
   "source": [
    "# P3. Exploration SQL"
   ]
  },
  {
   "cell_type": "markdown",
   "metadata": {},
   "source": [
    "Le répertoire `/db` contient une base de données SQLite3 `olympics.sqbpro` reprenant les résultats des épreuves des jeux d'été pour une période donnée (cf P1 & P2).\n",
    "\n",
    "On s'intéresse dans le cadre de cette partie P3 à l'exploration via SQL des résultats des JO d'été (table : `summer`)."
   ]
  },
  {
   "cell_type": "markdown",
   "metadata": {},
   "source": [
    "---"
   ]
  },
  {
   "cell_type": "markdown",
   "metadata": {},
   "source": [
    "### Question 1: Qu'est ce que SQL ?"
   ]
  },
  {
   "cell_type": "markdown",
   "metadata": {},
   "source": [
    "- SQL signifie Structured Query Language, c'est un langage qui permet de communiquer avec une base de données relationnelles.\n",
    "\n",
    "SQL est un langage informatique normalisé servant à exploiter des bases de données relationnelles. La partie langage de manipulation des données de SQL permet de rechercher, d'ajouter, de modifier ou de supprimer des données dans les bases de données relationnelles.\" (Wikipédia)"
   ]
  },
  {
   "cell_type": "markdown",
   "metadata": {},
   "source": [
    "### Question 2: Qu'est ce que SQLite 3 ? Avantages et/ou Inconvénients ?"
   ]
  },
  {
   "cell_type": "markdown",
   "metadata": {},
   "source": [
    "Sqlite est un SGBD simplifié, petit et rapide. Il présente de nombreux avantages:\n",
    "- iL est serverless, c'est à dire qui ne fonctionne pas sous le schéma classique de \"client-serveur\", il n'a donc pas besoin d'un serveur dédié pour fonctionner et peut être directement intégré dans une application.\n",
    "- facile d'utilisation, car ne nécessite pas d'installation/configuration particulière et peu d'administration.\n",
    "- projet opensource\n",
    "- utilise peu de ressource.\n",
    "- \"toute la base est stockée dans un fichier unique qu'il est facile d'échanger en FTP\" (Finalclap)\n",
    "\n",
    "Ce software n'est pas exempts d'inconvénients:\n",
    "- écritures ATOMIC (avec SQLite, un seul processus peut écrire dans la base)\n",
    "- n'est pas adpaté pour les sites importants (par ex. pas de réplication possible)\n",
    "- la taille de la base de donnée peut être restreinte\n",
    "\n",
    "\n",
    "La version 3 apporte des améliorations par rapport à la version 2 :\"\n",
    "- Auto increment (très utile pour les clé primaires à base d'entiers générés automatiquement)\n",
    "- Stockage plus efficace (SQLite2 stocke tous les types sous forme de chaine de caractère : entiers, chaines, BLOB... ce qui occupe de      l'espace disque inutilement)\n",
    "- Support des clés étrangères\" (Finalclap)\n",
    "\n",
    "\n",
    "http://www.journaldunet.com/developpeur/tutoriel/sql/050127-sqlite-limites.shtml"
   ]
  },
  {
   "cell_type": "markdown",
   "metadata": {},
   "source": [
    "### Question 3: Donner des exemples d'autres formats de fichier pouvant être utilisé pour fournir des données similaires "
   ]
  },
  {
   "cell_type": "markdown",
   "metadata": {},
   "source": [
    "Nous avons les formats XML, xls, json, ..."
   ]
  },
  {
   "cell_type": "markdown",
   "metadata": {},
   "source": [
    "### Question 4: Quel est le type (texte ou binaire) du fichier base de données SQLite3?"
   ]
  },
  {
   "cell_type": "markdown",
   "metadata": {},
   "source": [
    "Le fichier `olympics.sqbpro` est un fichier binaire (car encoder et il faut un logiciel particulier pour le lire)"
   ]
  },
  {
   "cell_type": "markdown",
   "metadata": {},
   "source": [
    "### Question 5: Donner les caractéristiques de la table `summer` ? "
   ]
  },
  {
   "cell_type": "markdown",
   "metadata": {},
   "source": [
    "Le tableau summer contient les noms des médaillés aux JO d'été de puis ses débuts jusqu'en 2016. Ce tableau contient les colones: year, city, sport, discipline, athlete, country, gender, event, medal"
   ]
  },
  {
   "cell_type": "markdown",
   "metadata": {},
   "source": [
    "---\n",
    "### Question 6: Combien d'enregistrements possède la table `summer` ?"
   ]
  },
  {
   "cell_type": "markdown",
   "metadata": {},
   "source": [
    "\"requete sql\"\n",
    "SELECT count FROM summer\n",
    "\n",
    "\"reponse\"\n",
    "31165!"
   ]
  },
  {
   "cell_type": "markdown",
   "metadata": {},
   "source": [
    "![p3_q6](image/p3_q6.png)"
   ]
  },
  {
   "cell_type": "markdown",
   "metadata": {},
   "source": [
    "### Question 7: Quelle période des JO couvre ce fichier de résultats ?"
   ]
  },
  {
   "cell_type": "markdown",
   "metadata": {},
   "source": [
    "SELECT min(Year), max(Year)\n",
    "FROM summer"
   ]
  },
  {
   "cell_type": "markdown",
   "metadata": {},
   "source": [
    "![p3_q7](image/p3_q7.png)"
   ]
  },
  {
   "cell_type": "markdown",
   "metadata": {},
   "source": []
  },
  {
   "cell_type": "markdown",
   "metadata": {},
   "source": [
    "# Début des questions de la promo"
   ]
  },
  {
   "cell_type": "markdown",
   "metadata": {},
   "source": [
    "### Question 8: Indiquer les années et villes des olympiades ? "
   ]
  },
  {
   "cell_type": "markdown",
   "metadata": {},
   "source": [
    "SELECT DISTINCT Year, City \n",
    "FROM summer"
   ]
  },
  {
   "cell_type": "markdown",
   "metadata": {},
   "source": [
    "![p3_q8](image/p3_q8.png)"
   ]
  },
  {
   "cell_type": "markdown",
   "metadata": {},
   "source": [
    "### Q3. En 2012 combien de médailles le Japon a t-il gagné ? (Théo)"
   ]
  },
  {
   "cell_type": "markdown",
   "metadata": {},
   "source": [
    "SELECT *\n",
    "FROM summer\n",
    "WHERE \"Year\" = \"2012\" AND \"Country\" = \"JPN\" "
   ]
  },
  {
   "cell_type": "markdown",
   "metadata": {},
   "source": [
    "![p3_q3](image/p3_q3.png)"
   ]
  },
  {
   "cell_type": "markdown",
   "metadata": {},
   "source": [
    "### Q17. Entre 1984 et 2012 combien de médailles a gagné la France ? (Abire)"
   ]
  },
  {
   "cell_type": "markdown",
   "metadata": {},
   "source": [
    "SELECT *\n",
    "FROM summer\n",
    "WHERE Year >= \"1984\" and Year <= \"2012\" AND \"Country\" = \"FRA\" "
   ]
  },
  {
   "cell_type": "markdown",
   "metadata": {},
   "source": [
    "![p3_q17](image/p3_q17.png)"
   ]
  },
  {
   "cell_type": "markdown",
   "metadata": {},
   "source": [
    "### Q10. Combien de joueuses comptait la sélection brésilienne de volley-ball médaillée d’or aux J.O de 2012 ? (Corentin P)"
   ]
  },
  {
   "cell_type": "markdown",
   "metadata": {},
   "source": [
    "SELECT *\n",
    "FROM summer\n",
    "WHERE Year = \"2012\" AND Country = \"BRA\" AND Discipline = \"Volleyball\" AND \"Gender\" = \"Women\"\n",
    "\n"
   ]
  },
  {
   "cell_type": "markdown",
   "metadata": {},
   "source": [
    "![q3_p10](image/p3_q10.png)"
   ]
  },
  {
   "cell_type": "markdown",
   "metadata": {},
   "source": [
    "### Q13. Est-ce que la France à déjà gagné une médaille d’or au cricket ? (jordan)"
   ]
  },
  {
   "cell_type": "markdown",
   "metadata": {},
   "source": [
    "SELECT count(*)\n",
    "FROM summer\n",
    "WHERE Country = \"FRA\" AND Discipline = \"Cricket\" AND \"Medal\" = \"Gold\""
   ]
  },
  {
   "cell_type": "markdown",
   "metadata": {},
   "source": [
    "![p3_q13](image/p3_q13.png)"
   ]
  },
  {
   "cell_type": "markdown",
   "metadata": {},
   "source": [
    "### Q12. Quel est l’athlète qui a remporté le plus de médailles d’or ? (mayel)"
   ]
  },
  {
   "cell_type": "markdown",
   "metadata": {},
   "source": [
    "SELECT Athlete, count(*)\n",
    "FROM summer\n",
    "WHERE Medal = \"Gold\"\n",
    "GROUP BY Athlete\n",
    "ORDER BY count(*) DESC\n",
    "LIMIT 1"
   ]
  },
  {
   "cell_type": "markdown",
   "metadata": {},
   "source": [
    "![p3_q12](image/p3_q12.png)"
   ]
  },
  {
   "cell_type": "markdown",
   "metadata": {},
   "source": [
    "### Q1. Combien la France a remporté de médailles d’or aux JO de 1984 ? (Christophe)"
   ]
  },
  {
   "cell_type": "markdown",
   "metadata": {},
   "source": [
    "SELECT count(Country) as France, Medal\n",
    "FROM summer\n",
    "WHERE Year = 1984 AND Country = \"FRA\" AND Medal = \"Gold\""
   ]
  },
  {
   "cell_type": "markdown",
   "metadata": {},
   "source": [
    "![p3_q1](image/p3_q1.png)"
   ]
  },
  {
   "cell_type": "markdown",
   "metadata": {},
   "source": [
    "### Q15. Le nombre de médailles d’or par pays en 2012 (Maëlle)\n"
   ]
  },
  {
   "cell_type": "markdown",
   "metadata": {},
   "source": [
    "- pour la question Q15 et Q5 même si les fonctions semblent juste, les réponses ne sont pas corrects (quand on compare ces résultats aux données wikipédia par exemple).\n",
    "\n",
    "SELECT Country, count(DISTINCT Event)\n",
    "FROM summer \n",
    "WHERE Year = \"2012\" and Medal = \"Gold\"\n",
    "GROUP BY Country\n",
    "ORDER BY count(DISTINCT Event) DESC\n",
    "\n",
    "- Code de Christophe:\n",
    "\n",
    "SELECT DISTINCT Year, Country, Sport, Discipline, Event, Gender, Medal, count(Athlete)\n",
    "FROM summer\n",
    "WHERE Year = 1984 AND Country = \"USA\"  AND Medal = \"Gold\"\n",
    "GROUP by Sport, Discipline, Event, Gender\n",
    "ORDER by Sport, Discipline, Event, Gender"
   ]
  },
  {
   "cell_type": "markdown",
   "metadata": {},
   "source": [
    "![p3_q15](image/p3_q15.png)"
   ]
  },
  {
   "cell_type": "markdown",
   "metadata": {},
   "source": [
    "### Q5. Quel pays a remporté le plus de médailles d’or ? (Philippe)\n"
   ]
  },
  {
   "cell_type": "markdown",
   "metadata": {},
   "source": [
    "SELECT Country, count(*)\n",
    "FROM summer \n",
    "WHERE Medal = \"Gold\"\n",
    "GROUP BY Country\n",
    "ORDER BY count(*) DESC\n",
    "LIMIT 1"
   ]
  },
  {
   "cell_type": "markdown",
   "metadata": {},
   "source": [
    "![p3_q5](image/p3_q5.png)"
   ]
  },
  {
   "cell_type": "markdown",
   "metadata": {},
   "source": [
    "### Q7. Combien de femmes ont obtenu  une médaille d’or ? (Lamia)"
   ]
  },
  {
   "cell_type": "markdown",
   "metadata": {},
   "source": [
    "SELECT Athlete, count(*)\n",
    "FROM summer \n",
    "WHERE Medal = \"Gold\" and Gender = \"Women\"\n",
    "GROUP BY Athlete\n",
    "ORDER BY count(*)"
   ]
  },
  {
   "cell_type": "markdown",
   "metadata": {},
   "source": [
    "![p3_q7b](image/p3_q7b.png)"
   ]
  },
  {
   "cell_type": "markdown",
   "metadata": {},
   "source": [
    "### Q16. Combien de femmes ont remportées des médailles ?"
   ]
  },
  {
   "cell_type": "markdown",
   "metadata": {},
   "source": [
    "SELECT count(DISTINCT Athlete)\n",
    "FROM summer \n",
    "WHERE Gender = \"Women\""
   ]
  },
  {
   "cell_type": "markdown",
   "metadata": {},
   "source": [
    "![p3_q16](image/p3_q16.png)"
   ]
  },
  {
   "cell_type": "markdown",
   "metadata": {},
   "source": [
    "### Q11. Combien de femmes françaises ont gagnées en 2012 , quel sont leurs médailles ? (izak)\n"
   ]
  },
  {
   "cell_type": "markdown",
   "metadata": {},
   "source": [
    "- pour obtenir le nombre de femme française qui ont gagné une médaile:\n",
    "\n",
    "SELECT Count(DISTINCT Athlete)\n",
    "FROM summer\n",
    "WHERE Country = \"FRA\" AND Gender = \"Women\" and Year = \"2012\""
   ]
  },
  {
   "cell_type": "markdown",
   "metadata": {},
   "source": [
    "![p3_q11a](image/p3_q11a.png)"
   ]
  },
  {
   "cell_type": "markdown",
   "metadata": {},
   "source": [
    "- liste des médailles françaises féminine:\n",
    "    \n",
    "SELECT Athlete, Medal\n",
    "FROM summer\n",
    "WHERE Country = \"FRA\" AND Gender = \"Women\" and Year = \"2012\""
   ]
  },
  {
   "cell_type": "markdown",
   "metadata": {},
   "source": [
    "![p3_q11b](image/p3_q11b.png)"
   ]
  },
  {
   "cell_type": "markdown",
   "metadata": {},
   "source": [
    "#### Q9. Combien de fois Londres a accueilli les J.O ? (Marvin)"
   ]
  },
  {
   "cell_type": "markdown",
   "metadata": {},
   "source": [
    "- pour avoir la réponse numérique directe:\n",
    "\n",
    "SELECT count(DISTINCT Year)\n",
    "FROM summer\n",
    "WHERE City = \"London\"\n",
    "\n",
    "- réponse plus visuelle (tableau):\n",
    "\n",
    "SELECT DISTINCT year, City\n",
    "FROM summer\n",
    "WHERE City = \"London\"\n"
   ]
  },
  {
   "cell_type": "markdown",
   "metadata": {},
   "source": [
    "![p3_q9](image/p3_q9.png)"
   ]
  },
  {
   "cell_type": "markdown",
   "metadata": {},
   "source": [
    "### Q6b. Combien de villes différentes ont accueilli les JO d’été entre 1896 et 2012 ? (Yoann)"
   ]
  },
  {
   "cell_type": "markdown",
   "metadata": {},
   "source": [
    "SELECT Count(DISTINCT City)\n",
    "FROM summer\t\n",
    "WHERE Year BETWEEN \"1896\" and \"2012\"\n"
   ]
  },
  {
   "cell_type": "markdown",
   "metadata": {},
   "source": [
    "![p3_q6b](image/p3_q6b.png)"
   ]
  },
  {
   "cell_type": "markdown",
   "metadata": {},
   "source": [
    "### Q2. Quel pays a le plus d’athlètes ? (Matthias)"
   ]
  },
  {
   "cell_type": "markdown",
   "metadata": {},
   "source": [
    "SELECT Country, count(DISTINCT Athlete)\n",
    "FROM summer\n",
    "GROUP BY Country\n",
    "ORDER BY count(DISTINCT Athlete) DESC\n",
    "LIMIT 1"
   ]
  },
  {
   "cell_type": "markdown",
   "metadata": {},
   "source": [
    "![p3_q2](image/p3_q2.png)"
   ]
  },
  {
   "cell_type": "markdown",
   "metadata": {},
   "source": [
    "### Q8. Combien de sports différents sont représentés par année ? (joris)"
   ]
  },
  {
   "cell_type": "markdown",
   "metadata": {},
   "source": [
    "SELECT Year, count(distinct Sport)\n",
    "FROM summer \n",
    "GROUP BY Year "
   ]
  },
  {
   "cell_type": "markdown",
   "metadata": {},
   "source": [
    "![p3_q8b](image/p3_q8b.png)"
   ]
  },
  {
   "cell_type": "markdown",
   "metadata": {},
   "source": [
    "### Q4. Dans quels différents sports les Grecs ont-ils gagné des médailles ? (Corentin L)"
   ]
  },
  {
   "cell_type": "markdown",
   "metadata": {},
   "source": [
    "SELECT Sport, count(Medal)\n",
    "FROM summer \n",
    "WHERE Country = \"GRE\"\n",
    "GROUP by Sport%"
   ]
  },
  {
   "cell_type": "markdown",
   "metadata": {},
   "source": [
    "![p3_q4](image/p3_q4.png)"
   ]
  },
  {
   "cell_type": "markdown",
   "metadata": {},
   "source": [
    "### Q14. Combien de médaillés ont un nom de famille de plus de 6 lettres en excluant les années paires ? (jonathan)\n"
   ]
  },
  {
   "cell_type": "markdown",
   "metadata": {},
   "source": [
    "- il n'y pas de JO d'été les années impaires, la réponse sera 0\n",
    "\n",
    "SELECT Athlete\n",
    "FROM summer\n",
    "WHERE ([Year]% 2) != 0"
   ]
  },
  {
   "cell_type": "markdown",
   "metadata": {},
   "source": [
    "![p3_q14](image/p3_q14.png)"
   ]
  },
  {
   "cell_type": "markdown",
   "metadata": {},
   "source": [
    "### Question i: "
   ]
  },
  {
   "cell_type": "code",
   "execution_count": null,
   "metadata": {},
   "outputs": [],
   "source": []
  },
  {
   "cell_type": "markdown",
   "metadata": {},
   "source": [
    "--- "
   ]
  },
  {
   "cell_type": "markdown",
   "metadata": {},
   "source": [
    "Fin"
   ]
  }
 ],
 "metadata": {
  "kernelspec": {
   "display_name": "Python 3",
   "language": "python",
   "name": "python3"
  },
  "language_info": {
   "codemirror_mode": {
    "name": "ipython",
    "version": 3
   },
   "file_extension": ".py",
   "mimetype": "text/x-python",
   "name": "python",
   "nbconvert_exporter": "python",
   "pygments_lexer": "ipython3",
   "version": "3.8.6"
  }
 },
 "nbformat": 4,
 "nbformat_minor": 4
}
